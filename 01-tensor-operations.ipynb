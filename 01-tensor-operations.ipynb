{
 "cells": [
  {
   "cell_type": "markdown",
   "metadata": {},
   "source": [
    "# Performing Matrix Operations Using Pytorch Functions\n",
    "\n",
    "### We will perform different types of matrix operations using pytorch functions. \n",
    "\n",
    "PyTorch is an open source machine learning library. Tensors are classes in Pytorch used to store and perform different types of operations on multidimensional arrays. We have chosen 5 tensor functions and see how these functions ca be used to peform respective matrix operation.\n",
    "- torch.matmul()\n",
    "- torch.transpose()\n",
    "- torch.inverse()\n",
    "- torch.trace()\n",
    "- torch.eig()"
   ]
  },
  {
   "cell_type": "code",
   "execution_count": 1,
   "metadata": {},
   "outputs": [],
   "source": [
    "# Import torch and other required modules\n",
    "import torch"
   ]
  },
  {
   "cell_type": "markdown",
   "metadata": {},
   "source": [
    "## Function 1 - torch.matmul() \n",
    "\n",
    "Helps to multiply two matrices. \n",
    "The syntax of the funtion is:  torch.matmul(input, other, out=None)"
   ]
  },
  {
   "cell_type": "code",
   "execution_count": 2,
   "metadata": {},
   "outputs": [
    {
     "name": "stdout",
     "output_type": "stream",
     "text": [
      "A= tensor([[1, 2, 3],\n",
      "        [4, 5, 6],\n",
      "        [7, 8, 9]])\n",
      "B= tensor([[10, 11, 12],\n",
      "        [13, 14, 15],\n",
      "        [16, 17, 18]])\n",
      "Matrix Multiplication of A & B: tensor([[ 84,  90,  96],\n",
      "        [201, 216, 231],\n",
      "        [318, 342, 366]])\n"
     ]
    }
   ],
   "source": [
    "# Example 1 - working \n",
    "a=torch.tensor([[1,2,3], [4,5,6],[7,8,9]])\n",
    "b=torch.tensor([[10,11,12], [13,14,15],[16,17,18]])\n",
    "c=torch.matmul(a,b)\n",
    "print (\"A=\",a)\n",
    "print(\"B=\",b)\n",
    "print (\"Matrix Multiplication of A & B:\",c)"
   ]
  },
  {
   "cell_type": "markdown",
   "metadata": {},
   "source": [
    "We have taken two matices 'a' and 'b', and matrix 'c' computes the product of matrix 'a' & 'b'."
   ]
  },
  {
   "cell_type": "code",
   "execution_count": 14,
   "metadata": {},
   "outputs": [
    {
     "name": "stdout",
     "output_type": "stream",
     "text": [
      "tensor([[0.3649, 0.1195],\n",
      "        [0.7247, 0.8259],\n",
      "        [0.1519, 0.8076]])\n",
      "tensor([[0.0532, 0.5970, 0.8126],\n",
      "        [0.2806, 0.0418, 0.7313]])\n",
      "tensor([[0.0529, 0.2229, 0.3840],\n",
      "        [0.2703, 0.4672, 1.1928],\n",
      "        [0.2347, 0.1245, 0.7140]])\n"
     ]
    }
   ],
   "source": [
    "# Example 2 - working\n",
    "e=torch.rand(3,2)\n",
    "print(e)\n",
    "f=torch.rand(2,3)\n",
    "print(f)\n",
    "g=torch.matmul(e,f)\n",
    "print(g)"
   ]
  },
  {
   "cell_type": "markdown",
   "metadata": {},
   "source": [
    "Here we took two random matrices and evaluated the product of the two matrices. To fill the matrix with random numbers we use the function torch.rand(rows,columns). e is matrix of size 3x2 ,and f is of size 2x3 and hence we get the product as a 3x3 matrix."
   ]
  },
  {
   "cell_type": "code",
   "execution_count": 16,
   "metadata": {},
   "outputs": [
    {
     "name": "stdout",
     "output_type": "stream",
     "text": [
      "tensor([[0.0041, 0.8590],\n",
      "        [0.6120, 0.3612],\n",
      "        [0.5991, 0.0395]])\n",
      "tensor([[0.8569, 0.1524, 0.3959],\n",
      "        [0.0745, 0.5204, 0.3161],\n",
      "        [0.6167, 0.7603, 0.5709]])\n"
     ]
    },
    {
     "ename": "RuntimeError",
     "evalue": "size mismatch, m1: [3 x 2], m2: [3 x 3] at /opt/conda/conda-bld/pytorch_1587428266983/work/aten/src/TH/generic/THTensorMath.cpp:41",
     "output_type": "error",
     "traceback": [
      "\u001b[0;31m---------------------------------------------------------------------------\u001b[0m",
      "\u001b[0;31mRuntimeError\u001b[0m                              Traceback (most recent call last)",
      "\u001b[0;32m<ipython-input-16-33f6623c70b6>\u001b[0m in \u001b[0;36m<module>\u001b[0;34m\u001b[0m\n\u001b[1;32m      4\u001b[0m \u001b[0mf\u001b[0m\u001b[0;34m=\u001b[0m\u001b[0mtorch\u001b[0m\u001b[0;34m.\u001b[0m\u001b[0mrand\u001b[0m\u001b[0;34m(\u001b[0m\u001b[0;36m3\u001b[0m\u001b[0;34m,\u001b[0m\u001b[0;36m3\u001b[0m\u001b[0;34m)\u001b[0m\u001b[0;34m\u001b[0m\u001b[0;34m\u001b[0m\u001b[0m\n\u001b[1;32m      5\u001b[0m \u001b[0mprint\u001b[0m\u001b[0;34m(\u001b[0m\u001b[0mf\u001b[0m\u001b[0;34m)\u001b[0m\u001b[0;34m\u001b[0m\u001b[0;34m\u001b[0m\u001b[0m\n\u001b[0;32m----> 6\u001b[0;31m \u001b[0mg\u001b[0m\u001b[0;34m=\u001b[0m\u001b[0mtorch\u001b[0m\u001b[0;34m.\u001b[0m\u001b[0mmatmul\u001b[0m\u001b[0;34m(\u001b[0m\u001b[0me\u001b[0m\u001b[0;34m,\u001b[0m\u001b[0mf\u001b[0m\u001b[0;34m)\u001b[0m\u001b[0;34m\u001b[0m\u001b[0;34m\u001b[0m\u001b[0m\n\u001b[0m\u001b[1;32m      7\u001b[0m \u001b[0mprint\u001b[0m\u001b[0;34m(\u001b[0m\u001b[0mg\u001b[0m\u001b[0;34m)\u001b[0m\u001b[0;34m\u001b[0m\u001b[0;34m\u001b[0m\u001b[0m\n",
      "\u001b[0;31mRuntimeError\u001b[0m: size mismatch, m1: [3 x 2], m2: [3 x 3] at /opt/conda/conda-bld/pytorch_1587428266983/work/aten/src/TH/generic/THTensorMath.cpp:41"
     ]
    }
   ],
   "source": [
    "# Example 3 - breaking \n",
    "e=torch.rand(3,2)\n",
    "print(e)\n",
    "f=torch.rand(3,3)\n",
    "print(f)\n",
    "g=torch.matmul(e,f)\n",
    "print(g)\n"
   ]
  },
  {
   "cell_type": "markdown",
   "metadata": {},
   "source": [
    "Here we took a tried to multiply two random matrices, but as we know the rule of matrix multiplication is no. of columns of the 1st matrix= no of rows of the 2nd matrix. This rule is not being follwed here that's why we are getting an error."
   ]
  },
  {
   "cell_type": "markdown",
   "metadata": {},
   "source": [
    "So, We can conclude that whenwever we need to evaluate the matrix multiplication of two marices we should use the torch.matmul() function and we should follow the rule of matrix multiplication, i.e no. of columns of the 1st matrix= no of rows of the 2nd matrix."
   ]
  },
  {
   "cell_type": "markdown",
   "metadata": {},
   "source": [
    "## Function 2 - torch.transpose()\n",
    "\n",
    "torch.transpose() is used to find the transpose of a matrix. Transpose of a matrix flips the matrix over its diagonal, i.e the values of the matrix of ij are swapped with ji. The syntax is : torch.transpose(input, dim0, dim1) ,dimension 0 is swapped with dimension 1 "
   ]
  },
  {
   "cell_type": "code",
   "execution_count": 18,
   "metadata": {},
   "outputs": [
    {
     "name": "stdout",
     "output_type": "stream",
     "text": [
      "tensor([[0.1893, 0.9065],\n",
      "        [0.5363, 0.4449],\n",
      "        [0.1657, 0.6104]])\n",
      "tensor([[0.1893, 0.5363, 0.1657],\n",
      "        [0.9065, 0.4449, 0.6104]])\n"
     ]
    }
   ],
   "source": [
    "# Example 1 - working\n",
    "a=torch.rand(3,2)\n",
    "print(a)\n",
    "b=torch.transpose(a,0,1)\n",
    "print(b)"
   ]
  },
  {
   "cell_type": "markdown",
   "metadata": {},
   "source": [
    "As we can see the rows and columns are swapped, ij is swapped with ji."
   ]
  },
  {
   "cell_type": "code",
   "execution_count": 19,
   "metadata": {},
   "outputs": [
    {
     "name": "stdout",
     "output_type": "stream",
     "text": [
      "tensor([[1, 2, 3],\n",
      "        [4, 5, 6],\n",
      "        [7, 8, 9]])\n",
      "tensor([[1, 4, 7],\n",
      "        [2, 5, 8],\n",
      "        [3, 6, 9]])\n"
     ]
    }
   ],
   "source": [
    "# Example 2 - working\n",
    "a=torch.tensor([[1,2,3],[4,5,6],[7,8,9]])\n",
    "print(a)\n",
    "b=torch.transpose(a,0,1)\n",
    "print(b)"
   ]
  },
  {
   "cell_type": "markdown",
   "metadata": {},
   "source": [
    "Here we took a matrix 'a' and computed its transpose."
   ]
  },
  {
   "cell_type": "code",
   "execution_count": 20,
   "metadata": {},
   "outputs": [
    {
     "ename": "TypeError",
     "evalue": "transpose() received an invalid combination of arguments - got (Tensor), but expected one of:\n * (Tensor input, name dim0, name dim1)\n * (Tensor input, int dim0, int dim1)\n",
     "output_type": "error",
     "traceback": [
      "\u001b[0;31m---------------------------------------------------------------------------\u001b[0m",
      "\u001b[0;31mTypeError\u001b[0m                                 Traceback (most recent call last)",
      "\u001b[0;32m<ipython-input-20-845e282b2dd1>\u001b[0m in \u001b[0;36m<module>\u001b[0;34m\u001b[0m\n\u001b[1;32m      1\u001b[0m \u001b[0;31m# Example 3 - breaking (to illustrate when it breaks)\u001b[0m\u001b[0;34m\u001b[0m\u001b[0;34m\u001b[0m\u001b[0;34m\u001b[0m\u001b[0m\n\u001b[1;32m      2\u001b[0m \u001b[0ma\u001b[0m\u001b[0;34m=\u001b[0m\u001b[0mtorch\u001b[0m\u001b[0;34m.\u001b[0m\u001b[0mrand\u001b[0m\u001b[0;34m(\u001b[0m\u001b[0;36m3\u001b[0m\u001b[0;34m,\u001b[0m\u001b[0;36m2\u001b[0m\u001b[0;34m)\u001b[0m\u001b[0;34m\u001b[0m\u001b[0;34m\u001b[0m\u001b[0m\n\u001b[0;32m----> 3\u001b[0;31m \u001b[0mb\u001b[0m\u001b[0;34m=\u001b[0m\u001b[0mtorch\u001b[0m\u001b[0;34m.\u001b[0m\u001b[0mtranspose\u001b[0m\u001b[0;34m(\u001b[0m\u001b[0ma\u001b[0m\u001b[0;34m)\u001b[0m\u001b[0;34m\u001b[0m\u001b[0;34m\u001b[0m\u001b[0m\n\u001b[0m\u001b[1;32m      4\u001b[0m \u001b[0mprint\u001b[0m\u001b[0;34m(\u001b[0m\u001b[0mb\u001b[0m\u001b[0;34m)\u001b[0m\u001b[0;34m\u001b[0m\u001b[0;34m\u001b[0m\u001b[0m\n",
      "\u001b[0;31mTypeError\u001b[0m: transpose() received an invalid combination of arguments - got (Tensor), but expected one of:\n * (Tensor input, name dim0, name dim1)\n * (Tensor input, int dim0, int dim1)\n"
     ]
    }
   ],
   "source": [
    "# Example 3 - breaking (to illustrate when it breaks)\n",
    "a=torch.rand(3,2)\n",
    "b=torch.transpose(a)\n",
    "print(b)"
   ]
  },
  {
   "cell_type": "markdown",
   "metadata": {},
   "source": [
    "As we can see a syntax error is present, because we are not specifying what to swap, we need to specify the dimension that needs to be swapped."
   ]
  },
  {
   "cell_type": "markdown",
   "metadata": {},
   "source": [
    "So, We can compute the transpose of a matrix using the torch.transpose() function but we need to mention the dimensions also, otherwise it will show an error."
   ]
  },
  {
   "cell_type": "markdown",
   "metadata": {},
   "source": [
    "## Function 3 - torch.inverse()\n",
    "\n",
    "torch.inverse() is used to compute the inverse of a matrix. This is a very useful function as we often need to evaluate the inverse of a matrix. Finding the inverse of a matrix involves multiple steps but with the help of torch.inverse() function we can evaluate the inverse of a matrix in a single step. Syntax: torch.inverse(input, out=None)"
   ]
  },
  {
   "cell_type": "code",
   "execution_count": 21,
   "metadata": {},
   "outputs": [
    {
     "name": "stdout",
     "output_type": "stream",
     "text": [
      "tensor([[0.9730, 0.6992, 0.2283],\n",
      "        [0.8901, 0.3237, 0.8778],\n",
      "        [0.1244, 0.9746, 0.9667]])\n",
      "tensor([[ 0.6278,  0.5245, -0.6246],\n",
      "        [ 0.8691, -1.0552,  0.7530],\n",
      "        [-0.9570,  0.9964,  0.3557]])\n"
     ]
    }
   ],
   "source": [
    "# Example 1 - working\n",
    "a=torch.rand(3,3)\n",
    "print(a)\n",
    "b=torch.inverse(a)\n",
    "print(b)"
   ]
  },
  {
   "cell_type": "markdown",
   "metadata": {},
   "source": [
    "Here we have taken a random matrix 'a' of size 3x3 and evaluated its inverse using the torch.inverse() function."
   ]
  },
  {
   "cell_type": "code",
   "execution_count": 22,
   "metadata": {},
   "outputs": [
    {
     "name": "stdout",
     "output_type": "stream",
     "text": [
      "tensor([[1., 2., 3.],\n",
      "        [4., 5., 6.],\n",
      "        [7., 8., 9.]])\n",
      "tensor([[ -2796203.0000,   5592406.0000,  -2796203.0000],\n",
      "        [  5592404.5000, -11184812.0000,   5592406.5000],\n",
      "        [ -2796201.7500,   5592406.0000,  -2796203.2500]])\n"
     ]
    }
   ],
   "source": [
    "# Example 2 - working\n",
    "a=torch.tensor([[1.,2,3],[4,5,6],[7,8,9]])\n",
    "print(a)\n",
    "b=torch.inverse(a)\n",
    "print(b)"
   ]
  },
  {
   "cell_type": "markdown",
   "metadata": {},
   "source": [
    "Here We have taken a matrix 'a' and evaluated its inverse."
   ]
  },
  {
   "cell_type": "code",
   "execution_count": 23,
   "metadata": {},
   "outputs": [
    {
     "name": "stdout",
     "output_type": "stream",
     "text": [
      "tensor([[1, 2, 3],\n",
      "        [4, 5, 6],\n",
      "        [7, 8, 9]])\n"
     ]
    },
    {
     "ename": "RuntimeError",
     "evalue": "\"inverse_cpu\" not implemented for 'Long'",
     "output_type": "error",
     "traceback": [
      "\u001b[0;31m---------------------------------------------------------------------------\u001b[0m",
      "\u001b[0;31mRuntimeError\u001b[0m                              Traceback (most recent call last)",
      "\u001b[0;32m<ipython-input-23-ee4a5c1a4b55>\u001b[0m in \u001b[0;36m<module>\u001b[0;34m\u001b[0m\n\u001b[1;32m      2\u001b[0m \u001b[0ma\u001b[0m\u001b[0;34m=\u001b[0m\u001b[0mtorch\u001b[0m\u001b[0;34m.\u001b[0m\u001b[0mtensor\u001b[0m\u001b[0;34m(\u001b[0m\u001b[0;34m[\u001b[0m\u001b[0;34m[\u001b[0m\u001b[0;36m1\u001b[0m\u001b[0;34m,\u001b[0m\u001b[0;36m2\u001b[0m\u001b[0;34m,\u001b[0m\u001b[0;36m3\u001b[0m\u001b[0;34m]\u001b[0m\u001b[0;34m,\u001b[0m\u001b[0;34m[\u001b[0m\u001b[0;36m4\u001b[0m\u001b[0;34m,\u001b[0m\u001b[0;36m5\u001b[0m\u001b[0;34m,\u001b[0m\u001b[0;36m6\u001b[0m\u001b[0;34m]\u001b[0m\u001b[0;34m,\u001b[0m\u001b[0;34m[\u001b[0m\u001b[0;36m7\u001b[0m\u001b[0;34m,\u001b[0m\u001b[0;36m8\u001b[0m\u001b[0;34m,\u001b[0m\u001b[0;36m9\u001b[0m\u001b[0;34m]\u001b[0m\u001b[0;34m]\u001b[0m\u001b[0;34m)\u001b[0m\u001b[0;34m\u001b[0m\u001b[0;34m\u001b[0m\u001b[0m\n\u001b[1;32m      3\u001b[0m \u001b[0mprint\u001b[0m\u001b[0;34m(\u001b[0m\u001b[0ma\u001b[0m\u001b[0;34m)\u001b[0m\u001b[0;34m\u001b[0m\u001b[0;34m\u001b[0m\u001b[0m\n\u001b[0;32m----> 4\u001b[0;31m \u001b[0mb\u001b[0m\u001b[0;34m=\u001b[0m\u001b[0mtorch\u001b[0m\u001b[0;34m.\u001b[0m\u001b[0minverse\u001b[0m\u001b[0;34m(\u001b[0m\u001b[0ma\u001b[0m\u001b[0;34m)\u001b[0m\u001b[0;34m\u001b[0m\u001b[0;34m\u001b[0m\u001b[0m\n\u001b[0m\u001b[1;32m      5\u001b[0m \u001b[0mprint\u001b[0m\u001b[0;34m(\u001b[0m\u001b[0mb\u001b[0m\u001b[0;34m)\u001b[0m\u001b[0;34m\u001b[0m\u001b[0;34m\u001b[0m\u001b[0m\n",
      "\u001b[0;31mRuntimeError\u001b[0m: \"inverse_cpu\" not implemented for 'Long'"
     ]
    }
   ],
   "source": [
    "# Example 3 - breaking (to illustrate when it breaks)\n",
    "a=torch.tensor([[1,2,3],[4,5,6],[7,8,9]])\n",
    "print(a)\n",
    "b=torch.inverse(a)\n",
    "print(b)"
   ]
  },
  {
   "cell_type": "markdown",
   "metadata": {},
   "source": [
    "Here we have taken the same matrix 'a' like above but this is showing an error.The only difference is that here matrix a is of integer type. So pytorch is assuming that the matrix 'b', i.e inverse of 'a' will also be an integer type matrix.That's why we are getting an error."
   ]
  },
  {
   "cell_type": "markdown",
   "metadata": {},
   "source": [
    "So, we have to always take into consideration that even if the values of input matrix are of integer type the output matrix (inverse of the input matrix) may be of floating type. Hence, we should always make sure that the input matrix is of floating type.(One simple way is to put a '.' after one of the value).\n",
    "There are other rules of inverse that should also be taken into consideration, like the input matrix should be a square matrix, and it should not be a singular matrix(i.e det a=0). "
   ]
  },
  {
   "cell_type": "markdown",
   "metadata": {},
   "source": [
    "## Function 4 - torch.trace()\n",
    "\n",
    "torch.trace() helps to evaluate the trace of a matrix. Trace of a matrix is the sum of its diagonal elements."
   ]
  },
  {
   "cell_type": "code",
   "execution_count": 24,
   "metadata": {},
   "outputs": [
    {
     "name": "stdout",
     "output_type": "stream",
     "text": [
      "tensor([[ 1., -1.,  2.],\n",
      "        [ 0.,  1.,  0.],\n",
      "        [ 1.,  2.,  1.]])\n",
      "tensor(3.)\n"
     ]
    }
   ],
   "source": [
    "# Example 1 - working\n",
    "a=torch.tensor([[1.,-1,2],[0,1,0],[1,2,1]])\n",
    "print(a)\n",
    "b=torch.trace(a)\n",
    "print(b)"
   ]
  },
  {
   "cell_type": "markdown",
   "metadata": {},
   "source": [
    "We have taken a matrix 'a' and evaluated its trace. As we can see the sum of its diagonal element is 1+1+1 =3."
   ]
  },
  {
   "cell_type": "code",
   "execution_count": 25,
   "metadata": {},
   "outputs": [
    {
     "name": "stdout",
     "output_type": "stream",
     "text": [
      "tensor([[0.7848, 0.4059, 0.8074],\n",
      "        [0.3442, 0.0891, 0.3804],\n",
      "        [0.9950, 0.0484, 0.9380]])\n",
      "tensor(1.8118)\n"
     ]
    }
   ],
   "source": [
    "# Example 2 - working\n",
    "a=torch.rand(3,3)\n",
    "print(a)\n",
    "b=torch.trace(a)\n",
    "print(b)"
   ]
  },
  {
   "cell_type": "markdown",
   "metadata": {},
   "source": [
    "Like the previous example we have computed the trace of a matrix. This time we have taken a random matrix of 3x3."
   ]
  },
  {
   "cell_type": "code",
   "execution_count": 26,
   "metadata": {},
   "outputs": [
    {
     "name": "stdout",
     "output_type": "stream",
     "text": [
      "tensor([[[0.9095, 0.3195, 0.2834],\n",
      "         [0.4393, 0.5581, 0.7745],\n",
      "         [0.0902, 0.0678, 0.6687]],\n",
      "\n",
      "        [[0.3130, 0.6446, 0.6422],\n",
      "         [0.4421, 0.6376, 0.3159],\n",
      "         [0.1003, 0.3789, 0.4093]],\n",
      "\n",
      "        [[0.7140, 0.8659, 0.2676],\n",
      "         [0.5592, 0.0794, 0.6201],\n",
      "         [0.9046, 0.0270, 0.2567]]])\n"
     ]
    },
    {
     "ename": "RuntimeError",
     "evalue": "invalid argument 1: expected a matrix at /opt/conda/conda-bld/pytorch_1587428266983/work/aten/src/TH/generic/THTensorMoreMath.cpp:303",
     "output_type": "error",
     "traceback": [
      "\u001b[0;31m---------------------------------------------------------------------------\u001b[0m",
      "\u001b[0;31mRuntimeError\u001b[0m                              Traceback (most recent call last)",
      "\u001b[0;32m<ipython-input-26-4c1f3962b92a>\u001b[0m in \u001b[0;36m<module>\u001b[0;34m\u001b[0m\n\u001b[1;32m      2\u001b[0m \u001b[0ma\u001b[0m\u001b[0;34m=\u001b[0m\u001b[0mtorch\u001b[0m\u001b[0;34m.\u001b[0m\u001b[0mrand\u001b[0m\u001b[0;34m(\u001b[0m\u001b[0;36m3\u001b[0m\u001b[0;34m,\u001b[0m\u001b[0;36m3\u001b[0m\u001b[0;34m,\u001b[0m\u001b[0;36m3\u001b[0m\u001b[0;34m)\u001b[0m\u001b[0;34m\u001b[0m\u001b[0;34m\u001b[0m\u001b[0m\n\u001b[1;32m      3\u001b[0m \u001b[0mprint\u001b[0m\u001b[0;34m(\u001b[0m\u001b[0ma\u001b[0m\u001b[0;34m)\u001b[0m\u001b[0;34m\u001b[0m\u001b[0;34m\u001b[0m\u001b[0m\n\u001b[0;32m----> 4\u001b[0;31m \u001b[0mb\u001b[0m\u001b[0;34m=\u001b[0m\u001b[0mtorch\u001b[0m\u001b[0;34m.\u001b[0m\u001b[0mtrace\u001b[0m\u001b[0;34m(\u001b[0m\u001b[0ma\u001b[0m\u001b[0;34m)\u001b[0m\u001b[0;34m\u001b[0m\u001b[0;34m\u001b[0m\u001b[0m\n\u001b[0m\u001b[1;32m      5\u001b[0m \u001b[0mprint\u001b[0m\u001b[0;34m(\u001b[0m\u001b[0mb\u001b[0m\u001b[0;34m)\u001b[0m\u001b[0;34m\u001b[0m\u001b[0;34m\u001b[0m\u001b[0m\n",
      "\u001b[0;31mRuntimeError\u001b[0m: invalid argument 1: expected a matrix at /opt/conda/conda-bld/pytorch_1587428266983/work/aten/src/TH/generic/THTensorMoreMath.cpp:303"
     ]
    }
   ],
   "source": [
    "# Example 3 - breaking (to illustrate when it breaks)\n",
    "a=torch.rand(3,3,3)\n",
    "print(a)\n",
    "b=torch.trace(a)\n",
    "print(b)"
   ]
  },
  {
   "cell_type": "markdown",
   "metadata": {},
   "source": [
    "Here the matrix is 3-dimensional. trace of a 3D matrix cannot be found. So we need to give s 2D matrix to find the trace."
   ]
  },
  {
   "cell_type": "markdown",
   "metadata": {},
   "source": [
    "Thus, torch.trace() function can be used to find the sum of the diagonal of a given matrix."
   ]
  },
  {
   "cell_type": "markdown",
   "metadata": {},
   "source": [
    "## Function 5 - torch.eig()\n",
    "\n",
    "torch.eig() is used to evaluate the eigen value and eigen vector of a matrix. Syntax: torch.eig(input, eigenvectors=False, out=None). Here input is the matrix for which we need to evaluate the eigen values.Eigenvectors is a boolean, if  it is set 'False', then the function only computes eigen value,if it's 'true' then it computes both eigen value and vector."
   ]
  },
  {
   "cell_type": "code",
   "execution_count": 27,
   "metadata": {},
   "outputs": [
    {
     "name": "stdout",
     "output_type": "stream",
     "text": [
      "tensor([[ 1., -1.,  2.],\n",
      "        [ 0.,  1.,  0.],\n",
      "        [ 1.,  2.,  1.]])\n",
      "torch.return_types.eig(\n",
      "eigenvalues=tensor([[ 2.4142,  0.0000],\n",
      "        [-0.4142,  0.0000],\n",
      "        [ 1.0000,  0.0000]]),\n",
      "eigenvectors=tensor([[ 0.8165, -0.8165, -0.8729],\n",
      "        [ 0.0000,  0.0000,  0.4364],\n",
      "        [ 0.5774,  0.5774,  0.2182]]))\n"
     ]
    }
   ],
   "source": [
    "# Example 1 - working\n",
    "a=torch.tensor([[1.,-1,2],[0,1,0],[1,2,1]])\n",
    "print(a)\n",
    "b=torch.eig(a,eigenvectors=True)\n",
    "print(b)\n"
   ]
  },
  {
   "cell_type": "markdown",
   "metadata": {},
   "source": [
    "We have taken a matrix 'a' and computed the eigen values aand the eigen vector. The value of eigen vector is set to true."
   ]
  },
  {
   "cell_type": "code",
   "execution_count": 28,
   "metadata": {},
   "outputs": [
    {
     "name": "stdout",
     "output_type": "stream",
     "text": [
      "tensor([[0.9223, 0.4595, 0.4015],\n",
      "        [0.2640, 0.9971, 0.5710],\n",
      "        [0.9985, 0.2060, 0.7894]])\n",
      "torch.return_types.eig(\n",
      "eigenvalues=tensor([[ 1.8618,  0.0000],\n",
      "        [ 0.4235,  0.1964],\n",
      "        [ 0.4235, -0.1964]]),\n",
      "eigenvectors=tensor([]))\n"
     ]
    }
   ],
   "source": [
    "# Example 2 - working\n",
    "a=torch.rand(3,3)\n",
    "print(a)\n",
    "b=torch.eig(a)\n",
    "print(b)"
   ]
  },
  {
   "cell_type": "markdown",
   "metadata": {},
   "source": [
    "Here, we have taken a random matrix of size 3x3 ,and we have not passed the eigenvectors parameter. By default it is set to False."
   ]
  },
  {
   "cell_type": "code",
   "execution_count": 29,
   "metadata": {},
   "outputs": [
    {
     "name": "stdout",
     "output_type": "stream",
     "text": [
      "tensor([[0.9178, 0.0827],\n",
      "        [0.4047, 0.4256],\n",
      "        [0.5433, 0.4727]])\n"
     ]
    },
    {
     "ename": "RuntimeError",
     "evalue": "invalid argument 1: A should be square at /opt/conda/conda-bld/pytorch_1587428266983/work/aten/src/TH/generic/THTensorLapack.cpp:194",
     "output_type": "error",
     "traceback": [
      "\u001b[0;31m---------------------------------------------------------------------------\u001b[0m",
      "\u001b[0;31mRuntimeError\u001b[0m                              Traceback (most recent call last)",
      "\u001b[0;32m<ipython-input-29-b12155e1e7e7>\u001b[0m in \u001b[0;36m<module>\u001b[0;34m\u001b[0m\n\u001b[1;32m      2\u001b[0m \u001b[0ma\u001b[0m\u001b[0;34m=\u001b[0m\u001b[0mtorch\u001b[0m\u001b[0;34m.\u001b[0m\u001b[0mrand\u001b[0m\u001b[0;34m(\u001b[0m\u001b[0;36m3\u001b[0m\u001b[0;34m,\u001b[0m\u001b[0;36m2\u001b[0m\u001b[0;34m)\u001b[0m\u001b[0;34m\u001b[0m\u001b[0;34m\u001b[0m\u001b[0m\n\u001b[1;32m      3\u001b[0m \u001b[0mprint\u001b[0m\u001b[0;34m(\u001b[0m\u001b[0ma\u001b[0m\u001b[0;34m)\u001b[0m\u001b[0;34m\u001b[0m\u001b[0;34m\u001b[0m\u001b[0m\n\u001b[0;32m----> 4\u001b[0;31m \u001b[0mb\u001b[0m\u001b[0;34m=\u001b[0m\u001b[0mtorch\u001b[0m\u001b[0;34m.\u001b[0m\u001b[0meig\u001b[0m\u001b[0;34m(\u001b[0m\u001b[0ma\u001b[0m\u001b[0;34m,\u001b[0m\u001b[0meigenvectors\u001b[0m\u001b[0;34m=\u001b[0m\u001b[0;32mTrue\u001b[0m\u001b[0;34m)\u001b[0m\u001b[0;34m\u001b[0m\u001b[0;34m\u001b[0m\u001b[0m\n\u001b[0m\u001b[1;32m      5\u001b[0m \u001b[0mprint\u001b[0m\u001b[0;34m(\u001b[0m\u001b[0mb\u001b[0m\u001b[0;34m)\u001b[0m\u001b[0;34m\u001b[0m\u001b[0;34m\u001b[0m\u001b[0m\n",
      "\u001b[0;31mRuntimeError\u001b[0m: invalid argument 1: A should be square at /opt/conda/conda-bld/pytorch_1587428266983/work/aten/src/TH/generic/THTensorLapack.cpp:194"
     ]
    }
   ],
   "source": [
    "# Example 3 - breaking (to illustrate when it breaks)\n",
    "a=torch.rand(3,2)\n",
    "print(a)\n",
    "b=torch.eig(a,eigenvectors=True)\n",
    "print(b)"
   ]
  },
  {
   "cell_type": "markdown",
   "metadata": {},
   "source": [
    "The torch.eig() function needs square matrix, since eigen values cannot be computed for non-square matrices."
   ]
  },
  {
   "cell_type": "markdown",
   "metadata": {},
   "source": [
    "torch.eig() is an useful function.It helps us to find the eigen values and eigen vectors of a square matrix."
   ]
  },
  {
   "cell_type": "markdown",
   "metadata": {},
   "source": [
    "## Conclusion\n",
    "\n",
    "We have seen the use of 5 pytorch functions in this note.We have used the matmul() function to multiply 2 matrices, then we have seen how to do traspose & inverse of a matrix, and lastly to find the trace and eigen values of a given matrix.We can use the above functions to do different types of matrix operations. There are many other functions present in the official pytorch documentation. "
   ]
  },
  {
   "cell_type": "markdown",
   "metadata": {},
   "source": [
    "## Reference Links\n",
    "Provide links to your references and other interesting articles about tensors\n",
    "* Official documentation for `torch.Tensor`: https://pytorch.org/docs/stable/tensors.html\n",
    "* Understanding dimensions in PyTorch:https://towardsdatascience.com/understanding-dimensions-in-pytorch-6edf9972d3be"
   ]
  },
  {
   "cell_type": "code",
   "execution_count": 3,
   "metadata": {},
   "outputs": [],
   "source": [
    "!pip install jovian --upgrade --quiet"
   ]
  },
  {
   "cell_type": "code",
   "execution_count": 4,
   "metadata": {},
   "outputs": [],
   "source": [
    "import jovian"
   ]
  },
  {
   "cell_type": "code",
   "execution_count": null,
   "metadata": {},
   "outputs": [
    {
     "data": {
      "application/javascript": [
       "window.require && require([\"base/js/namespace\"],function(Jupyter){Jupyter.notebook.save_checkpoint()})"
      ],
      "text/plain": [
       "<IPython.core.display.Javascript object>"
      ]
     },
     "metadata": {},
     "output_type": "display_data"
    },
    {
     "name": "stdout",
     "output_type": "stream",
     "text": [
      "[jovian] Attempting to save notebook..\u001b[0m\n"
     ]
    }
   ],
   "source": [
    "jovian.commit()"
   ]
  },
  {
   "cell_type": "code",
   "execution_count": null,
   "metadata": {},
   "outputs": [],
   "source": []
  }
 ],
 "metadata": {
  "kernelspec": {
   "display_name": "Python 3",
   "language": "python",
   "name": "python3"
  },
  "language_info": {
   "codemirror_mode": {
    "name": "ipython",
    "version": 3
   },
   "file_extension": ".py",
   "mimetype": "text/x-python",
   "name": "python",
   "nbconvert_exporter": "python",
   "pygments_lexer": "ipython3",
   "version": "3.7.6"
  }
 },
 "nbformat": 4,
 "nbformat_minor": 4
}
